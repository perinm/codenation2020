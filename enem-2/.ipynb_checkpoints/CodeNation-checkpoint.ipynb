{
 "cells": [
  {
   "cell_type": "code",
   "execution_count": 46,
   "metadata": {},
   "outputs": [],
   "source": [
    "import matplotlib.pyplot as plt\n",
    "%matplotlib inline\n",
    "\n",
    "import numpy as np\n",
    "import pandas as pd\n",
    "pd.set_option('display.max_rows', 500)\n",
    "pd.set_option('display.max_columns', 500)\n",
    "pd.set_option('display.width', 1000)\n",
    "\n",
    "from sklearn.base import BaseEstimator, TransformerMixin\n",
    "from sklearn.compose import ColumnTransformer\n",
    "from sklearn.impute import SimpleImputer\n",
    "from sklearn.metrics import mean_squared_error,r2_score\n",
    "from sklearn.model_selection import train_test_split\n",
    "from sklearn.pipeline import FeatureUnion, Pipeline \n",
    "from sklearn.preprocessing import OneHotEncoder, StandardScaler, LabelBinarizer\n",
    "\n",
    "import xgboost as xgb"
   ]
  },
  {
   "cell_type": "markdown",
   "metadata": {},
   "source": [
    "<b>Função que treina e printa 3 métricas de erro (RMSE, MSE e R2)<\\b>"
   ]
  },
  {
   "cell_type": "code",
   "execution_count": 2,
   "metadata": {},
   "outputs": [],
   "source": [
    "def treinao(df,model):\n",
    "    if \"NU_NOTA_MT\" in df:\n",
    "        X, y = df.drop(\"NU_NOTA_MT\",axis=1),df[\"NU_NOTA_MT\"]\n",
    "        X_train, X_test, y_train, y_test = train_test_split(X, y, test_size=0.2, random_state=123)\n",
    "        model.fit(X_train,y_train)\n",
    "        preds = model.predict(X_test)\n",
    "        print(\"RMSE: %f\" % (np.sqrt(mean_squared_error(y_test, preds))))\n",
    "        print(\"MSE: %f\" % (np.square(np.subtract(y_test,preds)).mean()))\n",
    "        print(\"r2: %f\" % (r2_score(y_test,preds)))\n",
    "        return model\n",
    "    else:\n",
    "        return model.predict(df)"
   ]
  },
  {
   "cell_type": "markdown",
   "metadata": {},
   "source": [
    "<b>Função que remove colunas anonimizadas/repetidas/pouco uteis e faz tratamento de variaveis categoricas"
   ]
  },
  {
   "cell_type": "code",
   "execution_count": 62,
   "metadata": {},
   "outputs": [],
   "source": [
    "def drop_modcat(df,ct=None):\n",
    "    anom_columns = [\"NU_INSCRICAO\",\"CO_PROVA_CN\",\"CO_PROVA_CH\",\"CO_PROVA_LC\",\"CO_PROVA_MT\",\"CO_UF_RESIDENCIA\"]\n",
    "    cat_variables = [\"SG_UF_RESIDENCIA\",\"TP_SEXO\",\"Q001\",\"Q002\",\"Q006\",\"Q024\",\"Q025\",\"Q026\",\"Q027\",\"Q047\"]\n",
    "    #num_cat_var = [\"TP_COR_RACA\",\"TP_NACIONALIDADE\",\"TP_ST_CONCLUSAO\",\"TP_ANO_CONCLUIU\",\"TP_ESCOLA\",\"TP_ENSINO\",\n",
    "    #               \"IN_TREINEIRO\",\"TP_DEPENDENCIA_ADM_ESC\",\"IN_BAIXA_VISAO\",\"IN_CEGUEIRA\",\"IN_SURDEZ\",\n",
    "    #               \"IN_DISLEXIA\",\"IN_DISCALCULIA\",\"IN_SABATISTA\",\"IN_GESTANTE\",\"IN_IDOSO\",\"TP_PRESENCA_CN\",\n",
    "    #               \"TP_PRESENCA_CH\",\"TP_PRESENCA_LC\",\"TP_LINGUA\",\"TP_STATUS_REDACAO\"]\n",
    "    num_variables = [\"NU_NOTA_COMP1\",\"NU_NOTA_COMP2\",\"NU_NOTA_COMP3\",\"NU_NOTA_COMP4\",\"NU_NOTA_COMP5\",\n",
    "                     \"NU_NOTA_REDACAO\",\"NU_NOTA_CN\",\"NU_NOTA_CH\",\"NU_NOTA_LC\",\"NU_NOTA_MT\"\n",
    "                    ]\n",
    "    df.drop(anom_columns,axis=1,inplace=True)\n",
    "    return pd.get_dummies(df, columns=cat_variables, drop_first=True)\n",
    "    #Testa se estamos com dataframe de treino ou de teste\n",
    "#    if \"NU_NOTA_MT\" in df.columns:\n",
    "#        ct= ColumnTransformer(\n",
    "#            [('scaler',StandardScaler(),num_variables)],\n",
    "#            sparse_threshold=0,remainder=\"passthrough\"\n",
    "#        )\n",
    "#        return pd.DataFrame(ct.fit_transform(df1),columns=df1.columns)\n",
    "#    else:\n",
    "#        return pd.DataFrame(ct.transform(df1),columns=df1.columns)"
   ]
  },
  {
   "cell_type": "code",
   "execution_count": 29,
   "metadata": {},
   "outputs": [],
   "source": [
    "df = pd.read_csv(\"train.csv\")"
   ]
  },
  {
   "cell_type": "markdown",
   "metadata": {},
   "source": [
    "<b>Deixando somente campos que estão no dataset test"
   ]
  },
  {
   "cell_type": "code",
   "execution_count": 30,
   "metadata": {},
   "outputs": [],
   "source": [
    "df = df[['NU_INSCRICAO', 'CO_UF_RESIDENCIA', 'SG_UF_RESIDENCIA', 'NU_IDADE', 'TP_SEXO', 'TP_COR_RACA',\n",
    " 'TP_NACIONALIDADE', 'TP_ST_CONCLUSAO', 'TP_ANO_CONCLUIU', 'TP_ESCOLA', 'TP_ENSINO', 'IN_TREINEIRO',\n",
    " 'TP_DEPENDENCIA_ADM_ESC', 'IN_BAIXA_VISAO', 'IN_CEGUEIRA', 'IN_SURDEZ', 'IN_DISLEXIA', 'IN_DISCALCULIA',\n",
    " 'IN_SABATISTA', 'IN_GESTANTE', 'IN_IDOSO', 'TP_PRESENCA_CN', 'TP_PRESENCA_CH', 'TP_PRESENCA_LC',\n",
    " 'CO_PROVA_CN', 'CO_PROVA_CH', 'CO_PROVA_LC', 'CO_PROVA_MT', 'NU_NOTA_CN', 'NU_NOTA_CH',\n",
    " 'NU_NOTA_LC', 'NU_NOTA_MT', 'TP_LINGUA', 'TP_STATUS_REDACAO', 'NU_NOTA_COMP1', 'NU_NOTA_COMP2', 'NU_NOTA_COMP3',\n",
    " 'NU_NOTA_COMP4', 'NU_NOTA_COMP5', 'NU_NOTA_REDACAO', 'Q001', 'Q002', 'Q006', 'Q024', 'Q025', 'Q026', 'Q027', 'Q047']]"
   ]
  },
  {
   "cell_type": "markdown",
   "metadata": {},
   "source": [
    "<b>Temos 3597 nans"
   ]
  },
  {
   "cell_type": "code",
   "execution_count": 31,
   "metadata": {},
   "outputs": [
    {
     "data": {
      "text/plain": [
       "3597"
      ]
     },
     "execution_count": 31,
     "metadata": {},
     "output_type": "execute_result"
    }
   ],
   "source": [
    "df.NU_NOTA_MT.isna().sum()"
   ]
  },
  {
   "cell_type": "code",
   "execution_count": 32,
   "metadata": {
    "scrolled": true
   },
   "outputs": [
    {
     "name": "stderr",
     "output_type": "stream",
     "text": [
      "/home/hansolo/anaconda3/envs/aceleradev/lib/python3.8/site-packages/numpy/lib/histograms.py:839: RuntimeWarning: invalid value encountered in greater_equal\n",
      "  keep = (tmp_a >= first_edge)\n",
      "/home/hansolo/anaconda3/envs/aceleradev/lib/python3.8/site-packages/numpy/lib/histograms.py:840: RuntimeWarning: invalid value encountered in less_equal\n",
      "  keep &= (tmp_a <= last_edge)\n"
     ]
    },
    {
     "data": {
      "image/png": "[encoded data removed]",
      "text/plain": [
       "<Figure size 432x288 with 1 Axes>"
      ]
     },
     "metadata": {
      "needs_background": "light"
     },
     "output_type": "display_data"
    }
   ],
   "source": [
    "plt.hist(df.NU_NOTA_MT, bins=10)\n",
    "plt.show()"
   ]
  },
  {
   "cell_type": "markdown",
   "metadata": {},
   "source": [
    "<b>Visto que quase não temos nota zero no nosso dataset provavlemente essas notas faltantes podem facilmente serem substituídas por zero"
   ]
  },
  {
   "cell_type": "markdown",
   "metadata": {},
   "source": [
    "<b>Tratando os dados"
   ]
  },
  {
   "cell_type": "code",
   "execution_count": 63,
   "metadata": {},
   "outputs": [],
   "source": [
    "df_dum = drop_modcat(df.copy())"
   ]
  },
  {
   "cell_type": "markdown",
   "metadata": {},
   "source": [
    "<b>Criação de algumas hipoteses sobre como devemos substituir nossos dados faltantes na coluna label"
   ]
  },
  {
   "cell_type": "code",
   "execution_count": 65,
   "metadata": {},
   "outputs": [],
   "source": [
    "df_0na = df_dum.copy()\n",
    "df_0na[\"NU_NOTA_MT\"].fillna(0,inplace=True)\n",
    "df_Mna = df_dum.copy()\n",
    "df_Mna.NU_NOTA_MT.fillna(df_Mna.NU_NOTA_MT.mean(),inplace=True)\n",
    "df_NOna = df_dum[df_dum.NU_NOTA_MT.notnull()]"
   ]
  },
  {
   "cell_type": "markdown",
   "metadata": {},
   "source": [
    "<b>Instanciando nosso modelo preditivo como um regressor XGboost"
   ]
  },
  {
   "cell_type": "code",
   "execution_count": 66,
   "metadata": {},
   "outputs": [],
   "source": [
    "xg_reg = xgb.XGBRegressor(objective ='reg:squarederror', colsample_bytree = 0.3, learning_rate = 0.1,\n",
    "                max_depth = 10, alpha = 10, n_estimators = 100)"
   ]
  },
  {
   "cell_type": "markdown",
   "metadata": {},
   "source": [
    "<b>Performance substituindo por zero"
   ]
  },
  {
   "cell_type": "code",
   "execution_count": 67,
   "metadata": {},
   "outputs": [
    {
     "name": "stdout",
     "output_type": "stream",
     "text": [
      "RMSE: 0.019088\n",
      "MSE: 0.000364\n",
      "r2: -0.000860\n"
     ]
    }
   ],
   "source": [
    "model0 = treinao(df_0na,xg_reg)"
   ]
  },
  {
   "cell_type": "markdown",
   "metadata": {},
   "source": [
    "<b>Performance substituindo pela média da coluna label"
   ]
  },
  {
   "cell_type": "code",
   "execution_count": 68,
   "metadata": {},
   "outputs": [
    {
     "name": "stdout",
     "output_type": "stream",
     "text": [
      "RMSE: 0.019088\n",
      "MSE: 0.000364\n",
      "r2: -0.000860\n"
     ]
    }
   ],
   "source": [
    "modelM = treinao(df_Mna,xg_reg)"
   ]
  },
  {
   "cell_type": "markdown",
   "metadata": {},
   "source": [
    "<b> Performance dropando linhas que faltam valor na coluna label"
   ]
  },
  {
   "cell_type": "code",
   "execution_count": 39,
   "metadata": {},
   "outputs": [
    {
     "name": "stdout",
     "output_type": "stream",
     "text": [
      "RMSE: 75.499425\n",
      "MSE: 5700.163221\n",
      "r2: 0.444326\n"
     ]
    }
   ],
   "source": [
    "modelNO = treinao(df_NOna,xg_reg)"
   ]
  },
  {
   "cell_type": "markdown",
   "metadata": {},
   "source": [
    "<b>Conclusão, devemos optar por pela substituição por zero"
   ]
  },
  {
   "cell_type": "code",
   "execution_count": 40,
   "metadata": {},
   "outputs": [
    {
     "data": {
      "text/html": [
       "<div>\n",
       "<style scoped>\n",
       "    .dataframe tbody tr th:only-of-type {\n",
       "        vertical-align: middle;\n",
       "    }\n",
       "\n",
       "    .dataframe tbody tr th {\n",
       "        vertical-align: top;\n",
       "    }\n",
       "\n",
       "    .dataframe thead th {\n",
       "        text-align: right;\n",
       "    }\n",
       "</style>\n",
       "<table border=\"1\" class=\"dataframe\">\n",
       "  <thead>\n",
       "    <tr style=\"text-align: right;\">\n",
       "      <th></th>\n",
       "      <th>NU_INSCRICAO</th>\n",
       "      <th>CO_UF_RESIDENCIA</th>\n",
       "      <th>SG_UF_RESIDENCIA</th>\n",
       "      <th>NU_IDADE</th>\n",
       "      <th>TP_SEXO</th>\n",
       "      <th>TP_COR_RACA</th>\n",
       "      <th>TP_NACIONALIDADE</th>\n",
       "      <th>TP_ST_CONCLUSAO</th>\n",
       "      <th>TP_ANO_CONCLUIU</th>\n",
       "      <th>TP_ESCOLA</th>\n",
       "      <th>TP_ENSINO</th>\n",
       "      <th>IN_TREINEIRO</th>\n",
       "      <th>TP_DEPENDENCIA_ADM_ESC</th>\n",
       "      <th>IN_BAIXA_VISAO</th>\n",
       "      <th>IN_CEGUEIRA</th>\n",
       "      <th>IN_SURDEZ</th>\n",
       "      <th>IN_DISLEXIA</th>\n",
       "      <th>IN_DISCALCULIA</th>\n",
       "      <th>IN_SABATISTA</th>\n",
       "      <th>IN_GESTANTE</th>\n",
       "      <th>IN_IDOSO</th>\n",
       "      <th>TP_PRESENCA_CN</th>\n",
       "      <th>TP_PRESENCA_CH</th>\n",
       "      <th>TP_PRESENCA_LC</th>\n",
       "      <th>CO_PROVA_CN</th>\n",
       "      <th>CO_PROVA_CH</th>\n",
       "      <th>CO_PROVA_LC</th>\n",
       "      <th>CO_PROVA_MT</th>\n",
       "      <th>NU_NOTA_CN</th>\n",
       "      <th>NU_NOTA_CH</th>\n",
       "      <th>NU_NOTA_LC</th>\n",
       "      <th>TP_LINGUA</th>\n",
       "      <th>TP_STATUS_REDACAO</th>\n",
       "      <th>NU_NOTA_COMP1</th>\n",
       "      <th>NU_NOTA_COMP2</th>\n",
       "      <th>NU_NOTA_COMP3</th>\n",
       "      <th>NU_NOTA_COMP4</th>\n",
       "      <th>NU_NOTA_COMP5</th>\n",
       "      <th>NU_NOTA_REDACAO</th>\n",
       "      <th>Q001</th>\n",
       "      <th>Q002</th>\n",
       "      <th>Q006</th>\n",
       "      <th>Q024</th>\n",
       "      <th>Q025</th>\n",
       "      <th>Q026</th>\n",
       "      <th>Q027</th>\n",
       "      <th>Q047</th>\n",
       "    </tr>\n",
       "  </thead>\n",
       "  <tbody>\n",
       "    <tr>\n",
       "      <th>0</th>\n",
       "      <td>73ff9fcc02f0a99919906c942c2e1a1042cdcf98</td>\n",
       "      <td>41</td>\n",
       "      <td>PR</td>\n",
       "      <td>22</td>\n",
       "      <td>F</td>\n",
       "      <td>3</td>\n",
       "      <td>1</td>\n",
       "      <td>1</td>\n",
       "      <td>5</td>\n",
       "      <td>1</td>\n",
       "      <td>NaN</td>\n",
       "      <td>0</td>\n",
       "      <td>NaN</td>\n",
       "      <td>0</td>\n",
       "      <td>0</td>\n",
       "      <td>0</td>\n",
       "      <td>0</td>\n",
       "      <td>0</td>\n",
       "      <td>0</td>\n",
       "      <td>0</td>\n",
       "      <td>0</td>\n",
       "      <td>1</td>\n",
       "      <td>1</td>\n",
       "      <td>1</td>\n",
       "      <td>16f84b7b3d2aeaff7d2f01297e6b3d0e25c77bb2</td>\n",
       "      <td>9cd70f1b922e02bd33453b3f607f5a644fb9b1b8</td>\n",
       "      <td>01abbb7f1a90505385f44eec9905f82ca2a42cfd</td>\n",
       "      <td>81d0ee00ef42a7c23eb04496458c03d4c5b9c31a</td>\n",
       "      <td>464.8</td>\n",
       "      <td>443.5</td>\n",
       "      <td>431.8</td>\n",
       "      <td>0</td>\n",
       "      <td>1.0</td>\n",
       "      <td>120.0</td>\n",
       "      <td>80.0</td>\n",
       "      <td>80.0</td>\n",
       "      <td>100.0</td>\n",
       "      <td>40.0</td>\n",
       "      <td>420.0</td>\n",
       "      <td>B</td>\n",
       "      <td>A</td>\n",
       "      <td>C</td>\n",
       "      <td>A</td>\n",
       "      <td>A</td>\n",
       "      <td>C</td>\n",
       "      <td>C</td>\n",
       "      <td>A</td>\n",
       "    </tr>\n",
       "    <tr>\n",
       "      <th>1</th>\n",
       "      <td>71a95f9f1b91a82c65ad94abbdf9f54e6066f968</td>\n",
       "      <td>21</td>\n",
       "      <td>MA</td>\n",
       "      <td>26</td>\n",
       "      <td>F</td>\n",
       "      <td>3</td>\n",
       "      <td>1</td>\n",
       "      <td>1</td>\n",
       "      <td>8</td>\n",
       "      <td>1</td>\n",
       "      <td>NaN</td>\n",
       "      <td>0</td>\n",
       "      <td>NaN</td>\n",
       "      <td>0</td>\n",
       "      <td>0</td>\n",
       "      <td>0</td>\n",
       "      <td>0</td>\n",
       "      <td>0</td>\n",
       "      <td>0</td>\n",
       "      <td>0</td>\n",
       "      <td>0</td>\n",
       "      <td>1</td>\n",
       "      <td>1</td>\n",
       "      <td>1</td>\n",
       "      <td>c8328ebc6f3238e06076c481bc1b82b8301e7a3f</td>\n",
       "      <td>f48d390ab6a2428e659c37fb8a9d00afde621889</td>\n",
       "      <td>72f80e4b3150c627c7ffc93cfe0fa13a9989b610</td>\n",
       "      <td>577f8968d95046f5eb5cc158608e12fa9ba34c85</td>\n",
       "      <td>391.1</td>\n",
       "      <td>491.1</td>\n",
       "      <td>548.0</td>\n",
       "      <td>1</td>\n",
       "      <td>1.0</td>\n",
       "      <td>120.0</td>\n",
       "      <td>120.0</td>\n",
       "      <td>120.0</td>\n",
       "      <td>120.0</td>\n",
       "      <td>100.0</td>\n",
       "      <td>580.0</td>\n",
       "      <td>E</td>\n",
       "      <td>B</td>\n",
       "      <td>C</td>\n",
       "      <td>B</td>\n",
       "      <td>B</td>\n",
       "      <td>B</td>\n",
       "      <td>F</td>\n",
       "      <td>A</td>\n",
       "    </tr>\n",
       "    <tr>\n",
       "      <th>2</th>\n",
       "      <td>b38a03232f43b11c9d0788abaf060f7366053b6d</td>\n",
       "      <td>23</td>\n",
       "      <td>CE</td>\n",
       "      <td>21</td>\n",
       "      <td>M</td>\n",
       "      <td>1</td>\n",
       "      <td>1</td>\n",
       "      <td>2</td>\n",
       "      <td>0</td>\n",
       "      <td>2</td>\n",
       "      <td>3.0</td>\n",
       "      <td>0</td>\n",
       "      <td>2.0</td>\n",
       "      <td>0</td>\n",
       "      <td>0</td>\n",
       "      <td>0</td>\n",
       "      <td>0</td>\n",
       "      <td>0</td>\n",
       "      <td>0</td>\n",
       "      <td>0</td>\n",
       "      <td>0</td>\n",
       "      <td>1</td>\n",
       "      <td>1</td>\n",
       "      <td>1</td>\n",
       "      <td>16f84b7b3d2aeaff7d2f01297e6b3d0e25c77bb2</td>\n",
       "      <td>9cd70f1b922e02bd33453b3f607f5a644fb9b1b8</td>\n",
       "      <td>01af53cd161a420fff1767129c10de560cc264dd</td>\n",
       "      <td>97caab1e1533dba217deb7ef41490f52e459ab01</td>\n",
       "      <td>595.9</td>\n",
       "      <td>622.7</td>\n",
       "      <td>613.6</td>\n",
       "      <td>0</td>\n",
       "      <td>1.0</td>\n",
       "      <td>80.0</td>\n",
       "      <td>40.0</td>\n",
       "      <td>40.0</td>\n",
       "      <td>80.0</td>\n",
       "      <td>80.0</td>\n",
       "      <td>320.0</td>\n",
       "      <td>E</td>\n",
       "      <td>E</td>\n",
       "      <td>D</td>\n",
       "      <td>B</td>\n",
       "      <td>B</td>\n",
       "      <td>A</td>\n",
       "      <td>NaN</td>\n",
       "      <td>A</td>\n",
       "    </tr>\n",
       "    <tr>\n",
       "      <th>3</th>\n",
       "      <td>70b682d9a3636be23f6120fa9d6b164eb3c6002d</td>\n",
       "      <td>15</td>\n",
       "      <td>PA</td>\n",
       "      <td>27</td>\n",
       "      <td>F</td>\n",
       "      <td>3</td>\n",
       "      <td>1</td>\n",
       "      <td>1</td>\n",
       "      <td>8</td>\n",
       "      <td>1</td>\n",
       "      <td>NaN</td>\n",
       "      <td>0</td>\n",
       "      <td>NaN</td>\n",
       "      <td>0</td>\n",
       "      <td>0</td>\n",
       "      <td>0</td>\n",
       "      <td>0</td>\n",
       "      <td>0</td>\n",
       "      <td>0</td>\n",
       "      <td>0</td>\n",
       "      <td>0</td>\n",
       "      <td>0</td>\n",
       "      <td>0</td>\n",
       "      <td>0</td>\n",
       "      <td>2d22ac1d42e6187f09ee6c578df187a760123ccf</td>\n",
       "      <td>2d22ac1d42e6187f09ee6c578df187a760123ccf</td>\n",
       "      <td>2d22ac1d42e6187f09ee6c578df187a760123ccf</td>\n",
       "      <td>2d22ac1d42e6187f09ee6c578df187a760123ccf</td>\n",
       "      <td>NaN</td>\n",
       "      <td>NaN</td>\n",
       "      <td>NaN</td>\n",
       "      <td>0</td>\n",
       "      <td>NaN</td>\n",
       "      <td>NaN</td>\n",
       "      <td>NaN</td>\n",
       "      <td>NaN</td>\n",
       "      <td>NaN</td>\n",
       "      <td>NaN</td>\n",
       "      <td>NaN</td>\n",
       "      <td>H</td>\n",
       "      <td>E</td>\n",
       "      <td>G</td>\n",
       "      <td>B</td>\n",
       "      <td>B</td>\n",
       "      <td>A</td>\n",
       "      <td>NaN</td>\n",
       "      <td>A</td>\n",
       "    </tr>\n",
       "    <tr>\n",
       "      <th>4</th>\n",
       "      <td>715494628a50142ce8cb17191cfe6d0f3cae0934</td>\n",
       "      <td>41</td>\n",
       "      <td>PR</td>\n",
       "      <td>18</td>\n",
       "      <td>M</td>\n",
       "      <td>1</td>\n",
       "      <td>1</td>\n",
       "      <td>2</td>\n",
       "      <td>0</td>\n",
       "      <td>2</td>\n",
       "      <td>1.0</td>\n",
       "      <td>0</td>\n",
       "      <td>2.0</td>\n",
       "      <td>0</td>\n",
       "      <td>0</td>\n",
       "      <td>0</td>\n",
       "      <td>0</td>\n",
       "      <td>0</td>\n",
       "      <td>0</td>\n",
       "      <td>0</td>\n",
       "      <td>0</td>\n",
       "      <td>1</td>\n",
       "      <td>1</td>\n",
       "      <td>1</td>\n",
       "      <td>66b1dad288e13be0992bae01e81f71eca1c6e8a6</td>\n",
       "      <td>942ab3dc020af4cf53740b6b07e9dd7060b24164</td>\n",
       "      <td>5aebe5cad7fabc1545ac7fba07a4e6177f98483c</td>\n",
       "      <td>767a32545304ed293242d528f54d4edb1369f910</td>\n",
       "      <td>592.9</td>\n",
       "      <td>492.6</td>\n",
       "      <td>571.4</td>\n",
       "      <td>1</td>\n",
       "      <td>1.0</td>\n",
       "      <td>100.0</td>\n",
       "      <td>80.0</td>\n",
       "      <td>60.0</td>\n",
       "      <td>80.0</td>\n",
       "      <td>0.0</td>\n",
       "      <td>320.0</td>\n",
       "      <td>D</td>\n",
       "      <td>H</td>\n",
       "      <td>H</td>\n",
       "      <td>C</td>\n",
       "      <td>B</td>\n",
       "      <td>A</td>\n",
       "      <td>NaN</td>\n",
       "      <td>A</td>\n",
       "    </tr>\n",
       "  </tbody>\n",
       "</table>\n",
       "</div>"
      ],
      "text/plain": [
       "                               NU_INSCRICAO  CO_UF_RESIDENCIA SG_UF_RESIDENCIA  NU_IDADE TP_SEXO  TP_COR_RACA  TP_NACIONALIDADE  TP_ST_CONCLUSAO  TP_ANO_CONCLUIU  TP_ESCOLA  TP_ENSINO  IN_TREINEIRO  TP_DEPENDENCIA_ADM_ESC  IN_BAIXA_VISAO  IN_CEGUEIRA  IN_SURDEZ  IN_DISLEXIA  IN_DISCALCULIA  IN_SABATISTA  IN_GESTANTE  IN_IDOSO  TP_PRESENCA_CN  TP_PRESENCA_CH  TP_PRESENCA_LC                               CO_PROVA_CN                               CO_PROVA_CH                               CO_PROVA_LC                               CO_PROVA_MT  NU_NOTA_CN  NU_NOTA_CH  NU_NOTA_LC  TP_LINGUA  TP_STATUS_REDACAO  NU_NOTA_COMP1  NU_NOTA_COMP2  NU_NOTA_COMP3  NU_NOTA_COMP4  NU_NOTA_COMP5  NU_NOTA_REDACAO Q001 Q002 Q006 Q024 Q025 Q026 Q027 Q047\n",
       "0  73ff9fcc02f0a99919906c942c2e1a1042cdcf98                41               PR        22       F            3                 1                1                5          1        NaN             0                     NaN               0            0          0            0               0             0            0         0               1               1               1  16f84b7b3d2aeaff7d2f01297e6b3d0e25c77bb2  9cd70f1b922e02bd33453b3f607f5a644fb9b1b8  01abbb7f1a90505385f44eec9905f82ca2a42cfd  81d0ee00ef42a7c23eb04496458c03d4c5b9c31a       464.8       443.5       431.8          0                1.0          120.0           80.0           80.0          100.0           40.0            420.0    B    A    C    A    A    C    C    A\n",
       "1  71a95f9f1b91a82c65ad94abbdf9f54e6066f968                21               MA        26       F            3                 1                1                8          1        NaN             0                     NaN               0            0          0            0               0             0            0         0               1               1               1  c8328ebc6f3238e06076c481bc1b82b8301e7a3f  f48d390ab6a2428e659c37fb8a9d00afde621889  72f80e4b3150c627c7ffc93cfe0fa13a9989b610  577f8968d95046f5eb5cc158608e12fa9ba34c85       391.1       491.1       548.0          1                1.0          120.0          120.0          120.0          120.0          100.0            580.0    E    B    C    B    B    B    F    A\n",
       "2  b38a03232f43b11c9d0788abaf060f7366053b6d                23               CE        21       M            1                 1                2                0          2        3.0             0                     2.0               0            0          0            0               0             0            0         0               1               1               1  16f84b7b3d2aeaff7d2f01297e6b3d0e25c77bb2  9cd70f1b922e02bd33453b3f607f5a644fb9b1b8  01af53cd161a420fff1767129c10de560cc264dd  97caab1e1533dba217deb7ef41490f52e459ab01       595.9       622.7       613.6          0                1.0           80.0           40.0           40.0           80.0           80.0            320.0    E    E    D    B    B    A  NaN    A\n",
       "3  70b682d9a3636be23f6120fa9d6b164eb3c6002d                15               PA        27       F            3                 1                1                8          1        NaN             0                     NaN               0            0          0            0               0             0            0         0               0               0               0  2d22ac1d42e6187f09ee6c578df187a760123ccf  2d22ac1d42e6187f09ee6c578df187a760123ccf  2d22ac1d42e6187f09ee6c578df187a760123ccf  2d22ac1d42e6187f09ee6c578df187a760123ccf         NaN         NaN         NaN          0                NaN            NaN            NaN            NaN            NaN            NaN              NaN    H    E    G    B    B    A  NaN    A\n",
       "4  715494628a50142ce8cb17191cfe6d0f3cae0934                41               PR        18       M            1                 1                2                0          2        1.0             0                     2.0               0            0          0            0               0             0            0         0               1               1               1  66b1dad288e13be0992bae01e81f71eca1c6e8a6  942ab3dc020af4cf53740b6b07e9dd7060b24164  5aebe5cad7fabc1545ac7fba07a4e6177f98483c  767a32545304ed293242d528f54d4edb1369f910       592.9       492.6       571.4          1                1.0          100.0           80.0           60.0           80.0            0.0            320.0    D    H    H    C    B    A  NaN    A"
      ]
     },
     "execution_count": 40,
     "metadata": {},
     "output_type": "execute_result"
    }
   ],
   "source": [
    "df_test = pd.read_csv(\"test.csv\")\n",
    "df_test.head()"
   ]
  },
  {
   "cell_type": "code",
   "execution_count": 41,
   "metadata": {},
   "outputs": [],
   "source": [
    "df_test = pd.read_csv(\"test.csv\")\n",
    "df_dum1 = drop_modcat(df_test.copy())\n",
    "preds = treinao(df_dum1,model0)"
   ]
  },
  {
   "cell_type": "code",
   "execution_count": 42,
   "metadata": {},
   "outputs": [],
   "source": [
    "z = pd.Series(preds,name=\"NU_NOTA_MT\")\n",
    "df_entrega = pd.concat([df_test.NU_INSCRICAO,z], axis=1)\n",
    "df_entrega.to_csv(\"answer.csv\",index=False)"
   ]
  },
  {
   "cell_type": "code",
   "execution_count": 43,
   "metadata": {},
   "outputs": [
    {
     "data": {
      "text/plain": [
       "0       429.111023\n",
       "1       459.967499\n",
       "2       553.158020\n",
       "3       296.030487\n",
       "4       552.542908\n",
       "           ...    \n",
       "4571    461.991760\n",
       "4572    472.640991\n",
       "4573    644.735779\n",
       "4574    443.716095\n",
       "4575    334.743500\n",
       "Name: NU_NOTA_MT, Length: 4576, dtype: float32"
      ]
     },
     "execution_count": 43,
     "metadata": {},
     "output_type": "execute_result"
    }
   ],
   "source": [
    "z"
   ]
  },
  {
   "cell_type": "code",
   "execution_count": null,
   "metadata": {},
   "outputs": [],
   "source": []
  }
 ],
 "metadata": {
  "kernelspec": {
   "display_name": "Python 3",
   "language": "python",
   "name": "python3"
  },
  "language_info": {
   "codemirror_mode": {
    "name": "ipython",
    "version": 3
   },
   "file_extension": ".py",
   "mimetype": "text/x-python",
   "name": "python",
   "nbconvert_exporter": "python",
   "pygments_lexer": "ipython3",
   "version": "3.8.2"
  }
 },
 "nbformat": 4,
 "nbformat_minor": 4
}
