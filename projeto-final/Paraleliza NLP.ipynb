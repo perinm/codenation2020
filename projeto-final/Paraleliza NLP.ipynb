{
 "cells": [
  {
   "cell_type": "code",
   "execution_count": 1,
   "metadata": {},
   "outputs": [],
   "source": [
    "import spacy\n",
    "import pandas as pd\n",
    "import numpy as np\n",
    "import time\n",
    "from statistics import mean \n",
    "from multiprocessing import Pool\n",
    "import pickle\n",
    "from spacy.tokens import DocBin\n",
    "\n",
    "pd.options.display.max_columns = 500\n",
    "pd.options.display.max_rows = 500\n",
    "\n",
    "nlp = spacy.load(\"pt_core_news_sm\")"
   ]
  },
  {
   "cell_type": "code",
   "execution_count": 2,
   "metadata": {},
   "outputs": [],
   "source": [
    "df = pd.read_csv(\"MERCADO_FINAL.csv\")\n",
    "port = pd.read_csv(\"estaticos_portfolio1.csv\")\n",
    "df_port = df[df['id'].isin(port['id'])].reset_index(drop=True)"
   ]
  },
  {
   "cell_type": "code",
   "execution_count": 36,
   "metadata": {},
   "outputs": [
    {
     "data": {
      "text/plain": [
       "462298"
      ]
     },
     "execution_count": 36,
     "metadata": {},
     "output_type": "execute_result"
    }
   ],
   "source": [
    "len(df)"
   ]
  },
  {
   "cell_type": "code",
   "execution_count": 39,
   "metadata": {},
   "outputs": [
    {
     "data": {
      "text/html": [
       "<div>\n",
       "<style scoped>\n",
       "    .dataframe tbody tr th:only-of-type {\n",
       "        vertical-align: middle;\n",
       "    }\n",
       "\n",
       "    .dataframe tbody tr th {\n",
       "        vertical-align: top;\n",
       "    }\n",
       "\n",
       "    .dataframe thead th {\n",
       "        text-align: right;\n",
       "    }\n",
       "</style>\n",
       "<table border=\"1\" class=\"dataframe\">\n",
       "  <thead>\n",
       "    <tr style=\"text-align: right;\">\n",
       "      <th></th>\n",
       "      <th>id</th>\n",
       "      <th>0</th>\n",
       "    </tr>\n",
       "  </thead>\n",
       "  <tbody>\n",
       "    <tr>\n",
       "      <th>0</th>\n",
       "      <td>a6984c3ae395090e3bee8ad63c3758b110de096d5d8195...</td>\n",
       "      <td>sociedade empresaria limitada entidades empres...</td>\n",
       "    </tr>\n",
       "    <tr>\n",
       "      <th>1</th>\n",
       "      <td>6178f41ade1365e44bc2c46654c2c8c0eaae27dcb476c4...</td>\n",
       "      <td>empresario individual outros servicos alojamen...</td>\n",
       "    </tr>\n",
       "    <tr>\n",
       "      <th>2</th>\n",
       "      <td>4a7e5069a397f12fdd7fd57111d6dc5d3ba558958efc02...</td>\n",
       "      <td>empresario individual outros transporte armaze...</td>\n",
       "    </tr>\n",
       "    <tr>\n",
       "      <th>3</th>\n",
       "      <td>3348900fe63216a439d2e5238c79ddd46ede454df7b9d8...</td>\n",
       "      <td>empresario individual outros servicos diversos...</td>\n",
       "    </tr>\n",
       "    <tr>\n",
       "      <th>4</th>\n",
       "      <td>1f9bcabc9d3173c1fe769899e4fac14b053037b953a1e4...</td>\n",
       "      <td>empresario individual outros servicos profissi...</td>\n",
       "    </tr>\n",
       "    <tr>\n",
       "      <th>...</th>\n",
       "      <td>...</td>\n",
       "      <td>...</td>\n",
       "    </tr>\n",
       "    <tr>\n",
       "      <th>462293</th>\n",
       "      <td>469ee5fc984d0bb60aa2f40cda4d003d7c9b963d149ed3...</td>\n",
       "      <td>empresario individual outros comercio reparaca...</td>\n",
       "    </tr>\n",
       "    <tr>\n",
       "      <th>462294</th>\n",
       "      <td>656f496e7e2fad708f0022d8ad97d2cb9344e839a5f3cb...</td>\n",
       "      <td>empresario individual outros servicos administ...</td>\n",
       "    </tr>\n",
       "    <tr>\n",
       "      <th>462295</th>\n",
       "      <td>9b933a5cf2149d1338f00fb459d34a16b9b0f2e8d3e8e1...</td>\n",
       "      <td>associacao privada entidades fins lucrativos s...</td>\n",
       "    </tr>\n",
       "    <tr>\n",
       "      <th>462296</th>\n",
       "      <td>84db0f17467cf4f02439e01ade57150b6ac59d9dae53ed...</td>\n",
       "      <td>sociedade empresaria limitada entidades empres...</td>\n",
       "    </tr>\n",
       "    <tr>\n",
       "      <th>462297</th>\n",
       "      <td>3d43e934e150b86be1e67524f5ba1018b27da9ef25566d...</td>\n",
       "      <td>empresario individual outros transporte armaze...</td>\n",
       "    </tr>\n",
       "  </tbody>\n",
       "</table>\n",
       "<p>462298 rows × 2 columns</p>\n",
       "</div>"
      ],
      "text/plain": [
       "                                                       id  \\\n",
       "0       a6984c3ae395090e3bee8ad63c3758b110de096d5d8195...   \n",
       "1       6178f41ade1365e44bc2c46654c2c8c0eaae27dcb476c4...   \n",
       "2       4a7e5069a397f12fdd7fd57111d6dc5d3ba558958efc02...   \n",
       "3       3348900fe63216a439d2e5238c79ddd46ede454df7b9d8...   \n",
       "4       1f9bcabc9d3173c1fe769899e4fac14b053037b953a1e4...   \n",
       "...                                                   ...   \n",
       "462293  469ee5fc984d0bb60aa2f40cda4d003d7c9b963d149ed3...   \n",
       "462294  656f496e7e2fad708f0022d8ad97d2cb9344e839a5f3cb...   \n",
       "462295  9b933a5cf2149d1338f00fb459d34a16b9b0f2e8d3e8e1...   \n",
       "462296  84db0f17467cf4f02439e01ade57150b6ac59d9dae53ed...   \n",
       "462297  3d43e934e150b86be1e67524f5ba1018b27da9ef25566d...   \n",
       "\n",
       "                                                        0  \n",
       "0       sociedade empresaria limitada entidades empres...  \n",
       "1       empresario individual outros servicos alojamen...  \n",
       "2       empresario individual outros transporte armaze...  \n",
       "3       empresario individual outros servicos diversos...  \n",
       "4       empresario individual outros servicos profissi...  \n",
       "...                                                   ...  \n",
       "462293  empresario individual outros comercio reparaca...  \n",
       "462294  empresario individual outros servicos administ...  \n",
       "462295  associacao privada entidades fins lucrativos s...  \n",
       "462296  sociedade empresaria limitada entidades empres...  \n",
       "462297  empresario individual outros transporte armaze...  \n",
       "\n",
       "[462298 rows x 2 columns]"
      ]
     },
     "execution_count": 39,
     "metadata": {},
     "output_type": "execute_result"
    }
   ],
   "source": [
    "df"
   ]
  },
  {
   "cell_type": "code",
   "execution_count": 37,
   "metadata": {},
   "outputs": [
    {
     "data": {
      "text/plain": [
       "6832"
      ]
     },
     "execution_count": 37,
     "metadata": {},
     "output_type": "execute_result"
    }
   ],
   "source": [
    "len(df_dupl)"
   ]
  },
  {
   "cell_type": "code",
   "execution_count": 38,
   "metadata": {},
   "outputs": [
    {
     "data": {
      "text/html": [
       "<div>\n",
       "<style scoped>\n",
       "    .dataframe tbody tr th:only-of-type {\n",
       "        vertical-align: middle;\n",
       "    }\n",
       "\n",
       "    .dataframe tbody tr th {\n",
       "        vertical-align: top;\n",
       "    }\n",
       "\n",
       "    .dataframe thead th {\n",
       "        text-align: right;\n",
       "    }\n",
       "</style>\n",
       "<table border=\"1\" class=\"dataframe\">\n",
       "  <thead>\n",
       "    <tr style=\"text-align: right;\">\n",
       "      <th></th>\n",
       "      <th>id</th>\n",
       "      <th>0</th>\n",
       "      <th>Docs</th>\n",
       "    </tr>\n",
       "  </thead>\n",
       "  <tbody>\n",
       "    <tr>\n",
       "      <th>0</th>\n",
       "      <td>6c45aabb849a760a3a7107c7a61262642f683feb8912a4...</td>\n",
       "      <td>cooperativa entidades empresariais bens consum...</td>\n",
       "      <td>(cooperativa, entidades, empresariais, bens, c...</td>\n",
       "    </tr>\n",
       "    <tr>\n",
       "      <th>1</th>\n",
       "      <td>764bb8648b96fd6459fa2f2237c22f3d6b8c129a814e33...</td>\n",
       "      <td>consorcio sociedades entidades empresariais in...</td>\n",
       "      <td>(consorcio, sociedades, entidades, empresariai...</td>\n",
       "    </tr>\n",
       "    <tr>\n",
       "      <th>2</th>\n",
       "      <td>a81c8e1d49c50f9ee7e5e7b25cd2223eba13ffcff402fe...</td>\n",
       "      <td>sociedade empresaria limitada entidades empres...</td>\n",
       "      <td>(sociedade, empresaria, limitada, entidades, e...</td>\n",
       "    </tr>\n",
       "    <tr>\n",
       "      <th>3</th>\n",
       "      <td>128ad43b6d43ab63679620906fc4bcb733f7561513967d...</td>\n",
       "      <td>orgao publico poder executivo municipal admini...</td>\n",
       "      <td>(orgao, publico, poder, executivo, municipal, ...</td>\n",
       "    </tr>\n",
       "    <tr>\n",
       "      <th>4</th>\n",
       "      <td>a820394924e9d954f40431b995072bd5c4b8b7b1239d59...</td>\n",
       "      <td>empresa individual responsabilidade limitada n...</td>\n",
       "      <td>(empresa, individual, responsabilidade, limita...</td>\n",
       "    </tr>\n",
       "    <tr>\n",
       "      <th>...</th>\n",
       "      <td>...</td>\n",
       "      <td>...</td>\n",
       "      <td>...</td>\n",
       "    </tr>\n",
       "    <tr>\n",
       "      <th>6827</th>\n",
       "      <td>469ee5fc984d0bb60aa2f40cda4d003d7c9b963d149ed3...</td>\n",
       "      <td>empresario individual outros comercio reparaca...</td>\n",
       "      <td>(empresario, individual, outros, comercio, rep...</td>\n",
       "    </tr>\n",
       "    <tr>\n",
       "      <th>6828</th>\n",
       "      <td>656f496e7e2fad708f0022d8ad97d2cb9344e839a5f3cb...</td>\n",
       "      <td>empresario individual outros servicos administ...</td>\n",
       "      <td>(empresario, individual, outros, servicos, adm...</td>\n",
       "    </tr>\n",
       "    <tr>\n",
       "      <th>6829</th>\n",
       "      <td>9b933a5cf2149d1338f00fb459d34a16b9b0f2e8d3e8e1...</td>\n",
       "      <td>associacao privada entidades fins lucrativos s...</td>\n",
       "      <td>(associacao, privada, entidades, fins, lucrati...</td>\n",
       "    </tr>\n",
       "    <tr>\n",
       "      <th>6830</th>\n",
       "      <td>84db0f17467cf4f02439e01ade57150b6ac59d9dae53ed...</td>\n",
       "      <td>sociedade empresaria limitada entidades empres...</td>\n",
       "      <td>(sociedade, empresaria, limitada, entidades, e...</td>\n",
       "    </tr>\n",
       "    <tr>\n",
       "      <th>6831</th>\n",
       "      <td>3d43e934e150b86be1e67524f5ba1018b27da9ef25566d...</td>\n",
       "      <td>empresario individual outros transporte armaze...</td>\n",
       "      <td>(empresario, individual, outros, transporte, a...</td>\n",
       "    </tr>\n",
       "  </tbody>\n",
       "</table>\n",
       "<p>6832 rows × 3 columns</p>\n",
       "</div>"
      ],
      "text/plain": [
       "                                                     id  \\\n",
       "0     6c45aabb849a760a3a7107c7a61262642f683feb8912a4...   \n",
       "1     764bb8648b96fd6459fa2f2237c22f3d6b8c129a814e33...   \n",
       "2     a81c8e1d49c50f9ee7e5e7b25cd2223eba13ffcff402fe...   \n",
       "3     128ad43b6d43ab63679620906fc4bcb733f7561513967d...   \n",
       "4     a820394924e9d954f40431b995072bd5c4b8b7b1239d59...   \n",
       "...                                                 ...   \n",
       "6827  469ee5fc984d0bb60aa2f40cda4d003d7c9b963d149ed3...   \n",
       "6828  656f496e7e2fad708f0022d8ad97d2cb9344e839a5f3cb...   \n",
       "6829  9b933a5cf2149d1338f00fb459d34a16b9b0f2e8d3e8e1...   \n",
       "6830  84db0f17467cf4f02439e01ade57150b6ac59d9dae53ed...   \n",
       "6831  3d43e934e150b86be1e67524f5ba1018b27da9ef25566d...   \n",
       "\n",
       "                                                      0  \\\n",
       "0     cooperativa entidades empresariais bens consum...   \n",
       "1     consorcio sociedades entidades empresariais in...   \n",
       "2     sociedade empresaria limitada entidades empres...   \n",
       "3     orgao publico poder executivo municipal admini...   \n",
       "4     empresa individual responsabilidade limitada n...   \n",
       "...                                                 ...   \n",
       "6827  empresario individual outros comercio reparaca...   \n",
       "6828  empresario individual outros servicos administ...   \n",
       "6829  associacao privada entidades fins lucrativos s...   \n",
       "6830  sociedade empresaria limitada entidades empres...   \n",
       "6831  empresario individual outros transporte armaze...   \n",
       "\n",
       "                                                   Docs  \n",
       "0     (cooperativa, entidades, empresariais, bens, c...  \n",
       "1     (consorcio, sociedades, entidades, empresariai...  \n",
       "2     (sociedade, empresaria, limitada, entidades, e...  \n",
       "3     (orgao, publico, poder, executivo, municipal, ...  \n",
       "4     (empresa, individual, responsabilidade, limita...  \n",
       "...                                                 ...  \n",
       "6827  (empresario, individual, outros, comercio, rep...  \n",
       "6828  (empresario, individual, outros, servicos, adm...  \n",
       "6829  (associacao, privada, entidades, fins, lucrati...  \n",
       "6830  (sociedade, empresaria, limitada, entidades, e...  \n",
       "6831  (empresario, individual, outros, transporte, a...  \n",
       "\n",
       "[6832 rows x 3 columns]"
      ]
     },
     "execution_count": 38,
     "metadata": {},
     "output_type": "execute_result"
    }
   ],
   "source": [
    "df_dupl"
   ]
  },
  {
   "cell_type": "code",
   "execution_count": 3,
   "metadata": {},
   "outputs": [],
   "source": [
    "df_dupl = df.drop_duplicates(subset='0', keep=\"last\").reset_index(drop=True)\n",
    "df_port_dupl = df_port.drop_duplicates(subset='0', keep=\"last\").reset_index(drop=True)\n",
    "dici_dupl = df['0'].value_counts().to_dict()\n",
    "dici_port = df_port['0'].value_counts().to_dict()"
   ]
  },
  {
   "cell_type": "code",
   "execution_count": 4,
   "metadata": {},
   "outputs": [],
   "source": [
    "def tokeniza(df):\n",
    "    df[\"Docs\"] = df[\"0\"].apply(lambda x: nlp(x)).to_list()\n",
    "    return df"
   ]
  },
  {
   "cell_type": "code",
   "execution_count": 5,
   "metadata": {},
   "outputs": [],
   "source": [
    "def parallelize_dataframe(df, func, n_cores=12):\n",
    "    df_split = np.array_split(df, n_cores)\n",
    "    pool = Pool(n_cores)\n",
    "    df = pd.concat(pool.map(func, df_split))\n",
    "    pool.close()\n",
    "    pool.terminate()\n",
    "    pool.join()\n",
    "    return df\n",
    "#     lista_final=[]\n",
    "#     for i in lista:\n",
    "#         lista_final.append(i)\n",
    "\n",
    "#     return lista_final"
   ]
  },
  {
   "cell_type": "code",
   "execution_count": 6,
   "metadata": {},
   "outputs": [
    {
     "name": "stdout",
     "output_type": "stream",
     "text": [
      "--- 45.005906105041504 seconds ---\n"
     ]
    }
   ],
   "source": [
    "start_time = time.time()\n",
    "df_dupl = parallelize_dataframe(df_dupl,tokeniza)\n",
    "print(\"--- %s seconds ---\" % (time.time() - start_time))"
   ]
  },
  {
   "cell_type": "code",
   "execution_count": 7,
   "metadata": {},
   "outputs": [
    {
     "name": "stdout",
     "output_type": "stream",
     "text": [
      "--- 15.874993085861206 seconds ---\n"
     ]
    }
   ],
   "source": [
    "start_time = time.time()\n",
    "df_port_dupl = parallelize_dataframe(df_port_dupl,tokeniza)\n",
    "print(\"--- %s seconds ---\" % (time.time() - start_time))"
   ]
  },
  {
   "cell_type": "code",
   "execution_count": 8,
   "metadata": {},
   "outputs": [],
   "source": [
    "def compara(df):\n",
    "    df_vazio=pd.DataFrame(columns=[\"id\",\"similarity\"])\n",
    "    #itera mercado\n",
    "    for i in range(len(df)):\n",
    "        doc_mercado = df[\"Docs\"].iloc[i]\n",
    "        similarity_sum=0\n",
    "        #iteraportfolio\n",
    "        for j in range(len(df_port_dupl)):\n",
    "            doc_portfolio = df_port_dupl[\"Docs\"][j]\n",
    "            similarity_sum+=(doc_mercado.similarity(doc_portfolio)*dici_port[df_port_dupl[\"0\"][j]])\n",
    "            semelhanca_media = similarity_sum/len(df_port)\n",
    "        df_vazio = df_vazio.append({'id':df['id'].iloc[i],'similarity':semelhanca_media},ignore_index=True)\n",
    "    #df[\"Similarity\"]=df.apply(lambda row: (doc_mercado.similarity(row['Docs']) * dici_port[row[\"0\"]]),axis=1)\n",
    "    return df_vazio"
   ]
  },
  {
   "cell_type": "code",
   "execution_count": 9,
   "metadata": {},
   "outputs": [],
   "source": [
    "def parallelize_compare(df, func, n_cores=12):\n",
    "    df_split = np.array_split(df, n_cores)\n",
    "    pool = Pool(n_cores)\n",
    "    df = pd.concat(pool.map(func, df_split)).reset_index(drop=True)\n",
    "    pool.close()\n",
    "    pool.terminate()\n",
    "    pool.join()\n",
    "    return df"
   ]
  },
  {
   "cell_type": "code",
   "execution_count": 10,
   "metadata": {},
   "outputs": [],
   "source": [
    "%%capture\n",
    "start_time = time.time()\n",
    "#itera mercado\n",
    "df_vazio = parallelize_compare(df_dupl,compara)\n",
    "tempo_total = (time.time() - start_time)\n",
    "print(\"--- %s seconds ---\" % (time.time() - start_time))"
   ]
  },
  {
   "cell_type": "code",
   "execution_count": 24,
   "metadata": {},
   "outputs": [
    {
     "name": "stdout",
     "output_type": "stream",
     "text": [
      "--- %s seconds --- 2038.9874329566956\n"
     ]
    }
   ],
   "source": [
    "print(\"--- %s seconds ---\" ,tempo_total)"
   ]
  },
  {
   "cell_type": "code",
   "execution_count": 12,
   "metadata": {},
   "outputs": [
    {
     "data": {
      "text/html": [
       "<div>\n",
       "<style scoped>\n",
       "    .dataframe tbody tr th:only-of-type {\n",
       "        vertical-align: middle;\n",
       "    }\n",
       "\n",
       "    .dataframe tbody tr th {\n",
       "        vertical-align: top;\n",
       "    }\n",
       "\n",
       "    .dataframe thead th {\n",
       "        text-align: right;\n",
       "    }\n",
       "</style>\n",
       "<table border=\"1\" class=\"dataframe\">\n",
       "  <thead>\n",
       "    <tr style=\"text-align: right;\">\n",
       "      <th></th>\n",
       "      <th>id</th>\n",
       "      <th>similarity</th>\n",
       "    </tr>\n",
       "  </thead>\n",
       "  <tbody>\n",
       "    <tr>\n",
       "      <th>0</th>\n",
       "      <td>6c45aabb849a760a3a7107c7a61262642f683feb8912a4...</td>\n",
       "      <td>0.839776</td>\n",
       "    </tr>\n",
       "    <tr>\n",
       "      <th>1</th>\n",
       "      <td>764bb8648b96fd6459fa2f2237c22f3d6b8c129a814e33...</td>\n",
       "      <td>0.892028</td>\n",
       "    </tr>\n",
       "    <tr>\n",
       "      <th>2</th>\n",
       "      <td>a81c8e1d49c50f9ee7e5e7b25cd2223eba13ffcff402fe...</td>\n",
       "      <td>0.846356</td>\n",
       "    </tr>\n",
       "    <tr>\n",
       "      <th>3</th>\n",
       "      <td>128ad43b6d43ab63679620906fc4bcb733f7561513967d...</td>\n",
       "      <td>0.878410</td>\n",
       "    </tr>\n",
       "    <tr>\n",
       "      <th>4</th>\n",
       "      <td>a820394924e9d954f40431b995072bd5c4b8b7b1239d59...</td>\n",
       "      <td>0.815033</td>\n",
       "    </tr>\n",
       "    <tr>\n",
       "      <th>...</th>\n",
       "      <td>...</td>\n",
       "      <td>...</td>\n",
       "    </tr>\n",
       "    <tr>\n",
       "      <th>6827</th>\n",
       "      <td>469ee5fc984d0bb60aa2f40cda4d003d7c9b963d149ed3...</td>\n",
       "      <td>0.924140</td>\n",
       "    </tr>\n",
       "    <tr>\n",
       "      <th>6828</th>\n",
       "      <td>656f496e7e2fad708f0022d8ad97d2cb9344e839a5f3cb...</td>\n",
       "      <td>0.868174</td>\n",
       "    </tr>\n",
       "    <tr>\n",
       "      <th>6829</th>\n",
       "      <td>9b933a5cf2149d1338f00fb459d34a16b9b0f2e8d3e8e1...</td>\n",
       "      <td>0.857196</td>\n",
       "    </tr>\n",
       "    <tr>\n",
       "      <th>6830</th>\n",
       "      <td>84db0f17467cf4f02439e01ade57150b6ac59d9dae53ed...</td>\n",
       "      <td>0.922097</td>\n",
       "    </tr>\n",
       "    <tr>\n",
       "      <th>6831</th>\n",
       "      <td>3d43e934e150b86be1e67524f5ba1018b27da9ef25566d...</td>\n",
       "      <td>0.826607</td>\n",
       "    </tr>\n",
       "  </tbody>\n",
       "</table>\n",
       "<p>6832 rows × 2 columns</p>\n",
       "</div>"
      ],
      "text/plain": [
       "                                                     id  similarity\n",
       "0     6c45aabb849a760a3a7107c7a61262642f683feb8912a4...    0.839776\n",
       "1     764bb8648b96fd6459fa2f2237c22f3d6b8c129a814e33...    0.892028\n",
       "2     a81c8e1d49c50f9ee7e5e7b25cd2223eba13ffcff402fe...    0.846356\n",
       "3     128ad43b6d43ab63679620906fc4bcb733f7561513967d...    0.878410\n",
       "4     a820394924e9d954f40431b995072bd5c4b8b7b1239d59...    0.815033\n",
       "...                                                 ...         ...\n",
       "6827  469ee5fc984d0bb60aa2f40cda4d003d7c9b963d149ed3...    0.924140\n",
       "6828  656f496e7e2fad708f0022d8ad97d2cb9344e839a5f3cb...    0.868174\n",
       "6829  9b933a5cf2149d1338f00fb459d34a16b9b0f2e8d3e8e1...    0.857196\n",
       "6830  84db0f17467cf4f02439e01ade57150b6ac59d9dae53ed...    0.922097\n",
       "6831  3d43e934e150b86be1e67524f5ba1018b27da9ef25566d...    0.826607\n",
       "\n",
       "[6832 rows x 2 columns]"
      ]
     },
     "execution_count": 12,
     "metadata": {},
     "output_type": "execute_result"
    }
   ],
   "source": [
    "df_vazio"
   ]
  },
  {
   "cell_type": "code",
   "execution_count": 13,
   "metadata": {},
   "outputs": [],
   "source": [
    "# start_time = time.time()\n",
    "# df_vazio=pd.DataFrame(columns=[\"id\",\"similarity\"])\n",
    "# #itera mercado\n",
    "# for i in range(len(df_dupl)):\n",
    "#     doc_mercado = df_dupl[\"Docs\"][i]\n",
    "#     semelhanca_com_port=[]\n",
    "#     #itera portfolio\n",
    "#     for j in range(len(df_port_dupl)):\n",
    "#         doc_portfolio = df_port_dupl[\"Docs\"][j]\n",
    "#         semelhanca_com_port.append(doc_mercado.similarity(doc_portfolio) * dici_port[df_port_dupl[\"0\"][j]])\n",
    "#     semelhanca_media = sum(semelhanca_com_port)/len(df_port)\n",
    "#     df_vazio = df_vazio.append({'id':df_dupl['id'][i],'similarity':semelhanca_media},ignore_index=True)\n",
    "#     print(i)\n",
    "# tempo_total = (time.time() - start_time)\n",
    "# print(\"--- %s seconds ---\" % (time.time() - start_time))"
   ]
  },
  {
   "cell_type": "code",
   "execution_count": 14,
   "metadata": {},
   "outputs": [],
   "source": [
    "# tempo_total"
   ]
  },
  {
   "cell_type": "code",
   "execution_count": 34,
   "metadata": {
    "scrolled": false
   },
   "outputs": [
    {
     "data": {
      "text/html": [
       "<div>\n",
       "<style scoped>\n",
       "    .dataframe tbody tr th:only-of-type {\n",
       "        vertical-align: middle;\n",
       "    }\n",
       "\n",
       "    .dataframe tbody tr th {\n",
       "        vertical-align: top;\n",
       "    }\n",
       "\n",
       "    .dataframe thead th {\n",
       "        text-align: right;\n",
       "    }\n",
       "</style>\n",
       "<table border=\"1\" class=\"dataframe\">\n",
       "  <thead>\n",
       "    <tr style=\"text-align: right;\">\n",
       "      <th></th>\n",
       "      <th>id</th>\n",
       "      <th>similarity</th>\n",
       "    </tr>\n",
       "  </thead>\n",
       "  <tbody>\n",
       "    <tr>\n",
       "      <th>0</th>\n",
       "      <td>44b1d031f0bff84d246181e97a7908a317cdfb8c0e096b...</td>\n",
       "      <td>0.968894</td>\n",
       "    </tr>\n",
       "    <tr>\n",
       "      <th>1</th>\n",
       "      <td>ba57e8f8416d1ca3cb2bd92e7e69c5bd6eb2807770ae0d...</td>\n",
       "      <td>0.968748</td>\n",
       "    </tr>\n",
       "    <tr>\n",
       "      <th>2</th>\n",
       "      <td>41cbf10a3e371d42988367df625f3faa1b1aeee74715a0...</td>\n",
       "      <td>0.968418</td>\n",
       "    </tr>\n",
       "    <tr>\n",
       "      <th>3</th>\n",
       "      <td>1b84118b02038a999c5f10b08ad97b7773b4221a501d68...</td>\n",
       "      <td>0.968317</td>\n",
       "    </tr>\n",
       "    <tr>\n",
       "      <th>4</th>\n",
       "      <td>25fc6c2f86ea82180b19935893969ca5943af053cf4fa6...</td>\n",
       "      <td>0.967975</td>\n",
       "    </tr>\n",
       "    <tr>\n",
       "      <th>...</th>\n",
       "      <td>...</td>\n",
       "      <td>...</td>\n",
       "    </tr>\n",
       "    <tr>\n",
       "      <th>525</th>\n",
       "      <td>ac9f147230570bb1611128fe56791f449ec3d3008d34eb...</td>\n",
       "      <td>0.900497</td>\n",
       "    </tr>\n",
       "    <tr>\n",
       "      <th>526</th>\n",
       "      <td>8017c3611dba9a74c34daa76e60247ca22d512b80c0730...</td>\n",
       "      <td>0.900476</td>\n",
       "    </tr>\n",
       "    <tr>\n",
       "      <th>527</th>\n",
       "      <td>ce73c913ea249ee8ad4f5fe39a6221fe8749b5f9408b91...</td>\n",
       "      <td>0.900327</td>\n",
       "    </tr>\n",
       "    <tr>\n",
       "      <th>528</th>\n",
       "      <td>41e503ed0eefea89a620d4f86dbd292d755187fdeb1eeb...</td>\n",
       "      <td>0.900227</td>\n",
       "    </tr>\n",
       "    <tr>\n",
       "      <th>529</th>\n",
       "      <td>b47a69a5272acb8f9d1848652c723721aea4135d421d7c...</td>\n",
       "      <td>0.900214</td>\n",
       "    </tr>\n",
       "  </tbody>\n",
       "</table>\n",
       "<p>530 rows × 2 columns</p>\n",
       "</div>"
      ],
      "text/plain": [
       "                                                    id  similarity\n",
       "0    44b1d031f0bff84d246181e97a7908a317cdfb8c0e096b...    0.968894\n",
       "1    ba57e8f8416d1ca3cb2bd92e7e69c5bd6eb2807770ae0d...    0.968748\n",
       "2    41cbf10a3e371d42988367df625f3faa1b1aeee74715a0...    0.968418\n",
       "3    1b84118b02038a999c5f10b08ad97b7773b4221a501d68...    0.968317\n",
       "4    25fc6c2f86ea82180b19935893969ca5943af053cf4fa6...    0.967975\n",
       "..                                                 ...         ...\n",
       "525  ac9f147230570bb1611128fe56791f449ec3d3008d34eb...    0.900497\n",
       "526  8017c3611dba9a74c34daa76e60247ca22d512b80c0730...    0.900476\n",
       "527  ce73c913ea249ee8ad4f5fe39a6221fe8749b5f9408b91...    0.900327\n",
       "528  41e503ed0eefea89a620d4f86dbd292d755187fdeb1eeb...    0.900227\n",
       "529  b47a69a5272acb8f9d1848652c723721aea4135d421d7c...    0.900214\n",
       "\n",
       "[530 rows x 2 columns]"
      ]
     },
     "execution_count": 34,
     "metadata": {},
     "output_type": "execute_result"
    }
   ],
   "source": [
    "df_vazio.sort_values(by=\"similarity\",ascending=False,ignore_index=True).head(530)"
   ]
  },
  {
   "cell_type": "code",
   "execution_count": 40,
   "metadata": {},
   "outputs": [
    {
     "data": {
      "text/plain": [
       "'44b1d031f0bff84d246181e97a7908a317cdfb8c0e096b937e08e5729c376d6b'"
      ]
     },
     "execution_count": 40,
     "metadata": {},
     "output_type": "execute_result"
    }
   ],
   "source": [
    "df_vazio.sort_values(\"similarity\",ascending=False).reset_index(drop=True)[\"id\"][0]"
   ]
  },
  {
   "cell_type": "code",
   "execution_count": 41,
   "metadata": {},
   "outputs": [
    {
     "data": {
      "text/plain": [
       "'empresario individual outros comercio varejista comercio comercio varejista comercio reparacao veiculos automotores motocicletas norte maranhense'"
      ]
     },
     "execution_count": 41,
     "metadata": {},
     "output_type": "execute_result"
    }
   ],
   "source": [
    "df[df[\"id\"]=='44b1d031f0bff84d246181e97a7908a317cdfb8c0e096b937e08e5729c376d6b'].reset_index(drop=True)[\"0\"][0]"
   ]
  },
  {
   "cell_type": "code",
   "execution_count": 51,
   "metadata": {},
   "outputs": [
    {
     "name": "stdout",
     "output_type": "stream",
     "text": [
      "cooperativa cooperativo VERB ROOT 0\n",
      "entidades entidade NOUN obj 0\n",
      "empresariais empresarial ADJ amod 0\n",
      "bens bem ADJ nsubj 0\n",
      "consumo consumir ADJ amod 0\n",
      "industria industriar ADJ ROOT 0\n",
      "fabricacao fabricacao VERB advcl 0\n",
      "produtos produto NOUN obj 0\n",
      "diversos diverso ADJ det 0\n",
      "industrias industriar ADJ nsubj 0\n",
      "transformacao transformacao VERB ROOT 0\n",
      "centro centrar PROPN obj 0\n",
      "amazonense amazonense PROPN amod 0\n"
     ]
    }
   ],
   "source": [
    "for token in df_dupl[\"Docs\"][0]:\n",
    "    print(token.text, token.lemma_, token.pos_, token.dep_, token.ent_type)"
   ]
  },
  {
   "cell_type": "code",
   "execution_count": 18,
   "metadata": {},
   "outputs": [],
   "source": [
    "# filename = 'modelo_mercado.sav'"
   ]
  },
  {
   "cell_type": "code",
   "execution_count": 19,
   "metadata": {},
   "outputs": [],
   "source": [
    "# doc_bin = DocBin(attrs=[\"POS\", \"TAG\", \"ENT_TYPE\"], store_user_data=True)\n",
    "# for doc in df22.Docs:\n",
    "#     doc_bin.add(doc)\n",
    "# bytes_data = doc_bin.to_bytes()\n",
    "# pickle.dump(bytes_data, open( filename, \"wb\" ))"
   ]
  },
  {
   "cell_type": "code",
   "execution_count": 20,
   "metadata": {},
   "outputs": [],
   "source": [
    "# loaded_model = pickle.load(open(filename, 'rb'))\n",
    "# doc_bin1 = DocBin(attrs=[\"POS\", \"TAG\", \"ENT_TYPE\"]).from_bytes(bytes_data)\n",
    "# docs = list(doc_bin.get_docs(nlp.vocab))"
   ]
  },
  {
   "cell_type": "code",
   "execution_count": 21,
   "metadata": {},
   "outputs": [],
   "source": [
    "# for token in docs[0]:\n",
    "#     print(token.text, token.lemma_, token.pos_, token.dep_)"
   ]
  },
  {
   "cell_type": "code",
   "execution_count": 22,
   "metadata": {},
   "outputs": [],
   "source": [
    "# start_time = time.time()\n",
    "\n",
    "# #itera mercado\n",
    "# l_mercado=[]\n",
    "# for i in range(10):\n",
    "#     l_mercado.append(nlp(df[\"0\"][i]))\n",
    "\n",
    "# print(\"--- %s seconds ---\" % (time.time() - start_time))"
   ]
  },
  {
   "cell_type": "code",
   "execution_count": 23,
   "metadata": {},
   "outputs": [],
   "source": [
    "# #itera portfolio\n",
    "# start_time = time.time()\n",
    "\n",
    "# l_portfolio=[]\n",
    "# for i in range(len(df_port_dupl)):\n",
    "#     l_portfolio.append(nlp(df_port_dupl[\"0\"][i]))\n",
    "        \n",
    "# print(\"--- %s seconds ---\" % (time.time() - start_time))"
   ]
  }
 ],
 "metadata": {
  "kernelspec": {
   "display_name": "Python 3",
   "language": "python",
   "name": "python3"
  },
  "language_info": {
   "codemirror_mode": {
    "name": "ipython",
    "version": 3
   },
   "file_extension": ".py",
   "mimetype": "text/x-python",
   "name": "python",
   "nbconvert_exporter": "python",
   "pygments_lexer": "ipython3",
   "version": "3.7.7"
  }
 },
 "nbformat": 4,
 "nbformat_minor": 4
}
